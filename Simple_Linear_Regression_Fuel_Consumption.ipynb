{
  "nbformat": 4,
  "nbformat_minor": 0,
  "metadata": {
    "kernelspec": {
      "display_name": "Python 3",
      "language": "python",
      "name": "python3"
    },
    "language_info": {
      "codemirror_mode": {
        "name": "ipython",
        "version": 3
      },
      "file_extension": ".py",
      "mimetype": "text/x-python",
      "name": "python",
      "nbconvert_exporter": "python",
      "pygments_lexer": "ipython3",
      "version": "3.6.5"
    },
    "colab": {
      "name": "Simple Linear Regression - Fuel Consumption.ipynb",
      "provenance": []
    }
  },
  "cells": [
    {
      "cell_type": "markdown",
      "metadata": {
        "id": "wcsgLdIct_cW"
      },
      "source": [
        "\n",
        "# CODE TO PERFORM SIMPLE LINEAR REGRESSION ON FUEL CONSUMPTION DATASET\n",
        "\n",
        "\n"
      ]
    },
    {
      "cell_type": "markdown",
      "metadata": {
        "id": "JebhSHA0t_cZ"
      },
      "source": [
        "# PROBLEM STATEMENT"
      ]
    },
    {
      "cell_type": "markdown",
      "metadata": {
        "id": "5Cqy0V-et_cb"
      },
      "source": [
        "- Task: Develop nad build a model to predict the impact of increasing the vehicle horsepower (HP) on fuel economy (Mileage Per Gallon (MPG)) using data set described below:\n",
        "- Data set:\n",
        "    - X (an independant variable) : Vehicle Horse Power \n",
        "    - Y (a dependant variable) : Mileage Per Gallon (MPG) "
      ]
    },
    {
      "cell_type": "markdown",
      "metadata": {
        "id": "7N72G2b8t_cb"
      },
      "source": [
        "# #1: LIBRARIES\n"
      ]
    },
    {
      "cell_type": "code",
      "metadata": {
        "id": "EtZOROrJt_cc"
      },
      "source": [
        "import pandas as pd\n",
        "import numpy as np\n",
        "import seaborn as sns\n",
        "import matplotlib.pyplot as plt"
      ],
      "execution_count": null,
      "outputs": []
    },
    {
      "cell_type": "markdown",
      "metadata": {
        "id": "y5zoFAcOt_cd"
      },
      "source": [
        "# #2: DATASET"
      ]
    },
    {
      "cell_type": "code",
      "metadata": {
        "id": "2orqHTRwt_ce"
      },
      "source": [
        "fueleconomy_df = pd.read_csv('FuelEconomy.csv')"
      ],
      "execution_count": null,
      "outputs": []
    },
    {
      "cell_type": "code",
      "metadata": {
        "id": "WG5LQ_yZt_ch",
        "outputId": "0e8292a1-3ab1-4a00-9708-5ea52f653df7"
      },
      "source": [
        "fueleconomy_df.describe()"
      ],
      "execution_count": null,
      "outputs": [
        {
          "output_type": "execute_result",
          "data": {
            "text/html": [
              "<div>\n",
              "<style scoped>\n",
              "    .dataframe tbody tr th:only-of-type {\n",
              "        vertical-align: middle;\n",
              "    }\n",
              "\n",
              "    .dataframe tbody tr th {\n",
              "        vertical-align: top;\n",
              "    }\n",
              "\n",
              "    .dataframe thead th {\n",
              "        text-align: right;\n",
              "    }\n",
              "</style>\n",
              "<table border=\"1\" class=\"dataframe\">\n",
              "  <thead>\n",
              "    <tr style=\"text-align: right;\">\n",
              "      <th></th>\n",
              "      <th>Horse Power</th>\n",
              "      <th>Fuel Economy (MPG)</th>\n",
              "    </tr>\n",
              "  </thead>\n",
              "  <tbody>\n",
              "    <tr>\n",
              "      <th>count</th>\n",
              "      <td>100.000000</td>\n",
              "      <td>100.000000</td>\n",
              "    </tr>\n",
              "    <tr>\n",
              "      <th>mean</th>\n",
              "      <td>213.676190</td>\n",
              "      <td>23.178501</td>\n",
              "    </tr>\n",
              "    <tr>\n",
              "      <th>std</th>\n",
              "      <td>62.061726</td>\n",
              "      <td>4.701666</td>\n",
              "    </tr>\n",
              "    <tr>\n",
              "      <th>min</th>\n",
              "      <td>50.000000</td>\n",
              "      <td>10.000000</td>\n",
              "    </tr>\n",
              "    <tr>\n",
              "      <th>25%</th>\n",
              "      <td>174.996514</td>\n",
              "      <td>20.439516</td>\n",
              "    </tr>\n",
              "    <tr>\n",
              "      <th>50%</th>\n",
              "      <td>218.928402</td>\n",
              "      <td>23.143192</td>\n",
              "    </tr>\n",
              "    <tr>\n",
              "      <th>75%</th>\n",
              "      <td>251.706476</td>\n",
              "      <td>26.089933</td>\n",
              "    </tr>\n",
              "    <tr>\n",
              "      <th>max</th>\n",
              "      <td>350.000000</td>\n",
              "      <td>35.000000</td>\n",
              "    </tr>\n",
              "  </tbody>\n",
              "</table>\n",
              "</div>"
            ],
            "text/plain": [
              "       Horse Power  Fuel Economy (MPG)\n",
              "count   100.000000          100.000000\n",
              "mean    213.676190           23.178501\n",
              "std      62.061726            4.701666\n",
              "min      50.000000           10.000000\n",
              "25%     174.996514           20.439516\n",
              "50%     218.928402           23.143192\n",
              "75%     251.706476           26.089933\n",
              "max     350.000000           35.000000"
            ]
          },
          "metadata": {
            "tags": []
          },
          "execution_count": 6
        }
      ]
    },
    {
      "cell_type": "code",
      "metadata": {
        "scrolled": true,
        "id": "Gma3hxemt_ch",
        "outputId": "cea0c8f9-3214-4fe3-d1ed-f8cd81958a32"
      },
      "source": [
        "fueleconomy_df.info()"
      ],
      "execution_count": null,
      "outputs": [
        {
          "output_type": "stream",
          "text": [
            "<class 'pandas.core.frame.DataFrame'>\n",
            "RangeIndex: 100 entries, 0 to 99\n",
            "Data columns (total 2 columns):\n",
            "Horse Power           100 non-null float64\n",
            "Fuel Economy (MPG)    100 non-null float64\n",
            "dtypes: float64(2)\n",
            "memory usage: 1.6 KB\n"
          ],
          "name": "stdout"
        }
      ]
    },
    {
      "cell_type": "markdown",
      "metadata": {
        "id": "sqlgs5mgt_ci"
      },
      "source": [
        "# #3: VISUALIZATION"
      ]
    },
    {
      "cell_type": "code",
      "metadata": {
        "scrolled": false,
        "id": "jvP0oKYit_ci",
        "outputId": "a4a4ce0a-92b7-4947-f326-475b506aa5b2"
      },
      "source": [
        "sns.jointplot(x = 'Horse Power', y = 'Fuel Economy (MPG)', data = fueleconomy_df)"
      ],
      "execution_count": null,
      "outputs": [
        {
          "output_type": "execute_result",
          "data": {
            "text/plain": [
              "<seaborn.axisgrid.JointGrid at 0x2a13bd95cf8>"
            ]
          },
          "metadata": {
            "tags": []
          },
          "execution_count": 9
        },
        {
          "output_type": "display_data",
          "data": {
            "image/png": "[encoded data removed]",
            "text/plain": [
              "<Figure size 432x432 with 3 Axes>"
            ]
          },
          "metadata": {
            "tags": []
          }
        }
      ]
    },
    {
      "cell_type": "code",
      "metadata": {
        "id": "LK8qbaSlt_cj",
        "outputId": "135676bb-3d07-4029-cf12-ca08dbb5e416"
      },
      "source": [
        "sns.pairplot(fueleconomy_df)"
      ],
      "execution_count": null,
      "outputs": [
        {
          "output_type": "execute_result",
          "data": {
            "text/plain": [
              "<seaborn.axisgrid.PairGrid at 0x2a13bea9e48>"
            ]
          },
          "metadata": {
            "tags": []
          },
          "execution_count": 11
        },
        {
          "output_type": "display_data",
          "data": {
            "image/png": "[encoded data removed]",
            "text/plain": [
              "<Figure size 360x360 with 6 Axes>"
            ]
          },
          "metadata": {
            "tags": []
          }
        }
      ]
    },
    {
      "cell_type": "code",
      "metadata": {
        "id": "HdxXwcYSt_cj",
        "outputId": "a1da191e-82f2-4f5a-f887-c89a3191d874"
      },
      "source": [
        "sns.lmplot(x = 'Horse Power', y =  'Fuel Economy (MPG)', data = fueleconomy_df)"
      ],
      "execution_count": null,
      "outputs": [
        {
          "output_type": "execute_result",
          "data": {
            "text/plain": [
              "<seaborn.axisgrid.FacetGrid at 0x2a13d219ac8>"
            ]
          },
          "metadata": {
            "tags": []
          },
          "execution_count": 12
        },
        {
          "output_type": "display_data",
          "data": {
            "image/png": "[encoded data removed]",
            "text/plain": [
              "<Figure size 360x360 with 1 Axes>"
            ]
          },
          "metadata": {
            "tags": []
          }
        }
      ]
    },
    {
      "cell_type": "markdown",
      "metadata": {
        "id": "4kaJ2BMwt_ck"
      },
      "source": [
        "# #4: DATA SPLIT : TESTING AND TRAINING DATASET"
      ]
    },
    {
      "cell_type": "code",
      "metadata": {
        "id": "vqzvjBmot_ck"
      },
      "source": [
        "X = fueleconomy_df[['Horse Power']]"
      ],
      "execution_count": null,
      "outputs": []
    },
    {
      "cell_type": "code",
      "metadata": {
        "id": "amaEUWVNt_ck"
      },
      "source": [
        "y = fueleconomy_df['Fuel Economy (MPG)']"
      ],
      "execution_count": null,
      "outputs": []
    },
    {
      "cell_type": "code",
      "metadata": {
        "id": "IGJNJ7wjt_cl"
      },
      "source": [
        "from sklearn.model_selection import train_test_split\n",
        "X_train, X_test, y_train, y_test = train_test_split(X, y, test_size = 0.3)"
      ],
      "execution_count": null,
      "outputs": []
    },
    {
      "cell_type": "code",
      "metadata": {
        "id": "V0QijQitt_cl",
        "outputId": "41582d90-815f-4422-abab-c5cee5998bce"
      },
      "source": [
        "X_train.shape"
      ],
      "execution_count": null,
      "outputs": [
        {
          "output_type": "execute_result",
          "data": {
            "text/plain": [
              "(70, 1)"
            ]
          },
          "metadata": {
            "tags": []
          },
          "execution_count": 24
        }
      ]
    },
    {
      "cell_type": "code",
      "metadata": {
        "id": "Zn2aFxJNt_cm",
        "outputId": "943f803f-f32f-42ab-e28f-662d07ca23cc"
      },
      "source": [
        "X_test.shape"
      ],
      "execution_count": null,
      "outputs": [
        {
          "output_type": "execute_result",
          "data": {
            "text/plain": [
              "(30, 1)"
            ]
          },
          "metadata": {
            "tags": []
          },
          "execution_count": 25
        }
      ]
    },
    {
      "cell_type": "markdown",
      "metadata": {
        "id": "Ur3SgHxFt_cm"
      },
      "source": [
        "# #5: MODEL TRAINING"
      ]
    },
    {
      "cell_type": "code",
      "metadata": {
        "id": "dI9B1test_cm",
        "outputId": "fe27620e-647e-45a0-9516-f2b9e94046ab"
      },
      "source": [
        "X_train.shape"
      ],
      "execution_count": null,
      "outputs": [
        {
          "output_type": "execute_result",
          "data": {
            "text/plain": [
              "(70, 1)"
            ]
          },
          "metadata": {
            "tags": []
          },
          "execution_count": 26
        }
      ]
    },
    {
      "cell_type": "code",
      "metadata": {
        "id": "7luBxralt_cm",
        "outputId": "41b5f8d8-e119-4321-a116-8f490e89f217"
      },
      "source": [
        "X_test.shape"
      ],
      "execution_count": null,
      "outputs": [
        {
          "output_type": "execute_result",
          "data": {
            "text/plain": [
              "(30, 1)"
            ]
          },
          "metadata": {
            "tags": []
          },
          "execution_count": 27
        }
      ]
    },
    {
      "cell_type": "code",
      "metadata": {
        "id": "E6vez4Pft_cn",
        "outputId": "86b2f57a-9820-467c-afa3-a8673456851f"
      },
      "source": [
        "from sklearn.linear_model import LinearRegression\n",
        "regressor = LinearRegression(fit_intercept = True)\n",
        "regressor.fit(X_train, y_train)"
      ],
      "execution_count": null,
      "outputs": [
        {
          "output_type": "execute_result",
          "data": {
            "text/plain": [
              "LinearRegression(copy_X=True, fit_intercept=True, n_jobs=1, normalize=False)"
            ]
          },
          "metadata": {
            "tags": []
          },
          "execution_count": 45
        }
      ]
    },
    {
      "cell_type": "code",
      "metadata": {
        "id": "P1n4YVW8t_cn",
        "outputId": "9cd2ae7d-83dd-4d62-828b-8f636c82d490"
      },
      "source": [
        "print('Linear Model Coeff (m):', regressor.coef_)\n",
        "print('Linear Model Coeff (b):', regressor.intercept_)"
      ],
      "execution_count": null,
      "outputs": [
        {
          "output_type": "stream",
          "text": [
            "Linear Model Coeff (m): [-0.07045156]\n",
            "Linear Model Coeff (b): 38.041238126646476\n"
          ],
          "name": "stdout"
        }
      ]
    },
    {
      "cell_type": "markdown",
      "metadata": {
        "id": "DR2EPDk0t_co"
      },
      "source": [
        "# #6: MODEL TESTING"
      ]
    },
    {
      "cell_type": "code",
      "metadata": {
        "id": "qefS2z3Ft_co",
        "outputId": "a5db78c6-afe6-413c-9e2d-b4ba47398e98"
      },
      "source": [
        "y_predict = regressor.predict(X_test)\n",
        "y_predict"
      ],
      "execution_count": null,
      "outputs": [
        {
          "output_type": "execute_result",
          "data": {
            "text/plain": [
              "array([25.06948271, 21.80478409, 26.57098227, 25.2847206 , 24.93442765,\n",
              "       28.77389147, 28.61319538, 29.44331897, 32.08300974, 20.24852979,\n",
              "       20.43652196, 22.80389082, 19.59334975, 20.32799069, 25.61875723,\n",
              "       28.14756327, 20.86957037, 22.23598982, 21.98719543, 27.30809466,\n",
              "       22.64092695, 23.1245931 , 21.38194995, 24.53463137, 23.59537241,\n",
              "       17.29847446, 27.09198378, 28.11040081, 29.14947632, 22.02195475])"
            ]
          },
          "metadata": {
            "tags": []
          },
          "execution_count": 47
        }
      ]
    },
    {
      "cell_type": "code",
      "metadata": {
        "id": "6ae7GBAKt_co",
        "outputId": "9f641ade-8db5-45e7-cdea-a43b25bb39de"
      },
      "source": [
        "y_test"
      ],
      "execution_count": null,
      "outputs": [
        {
          "output_type": "execute_result",
          "data": {
            "text/plain": [
              "99    25.196097\n",
              "60    20.715722\n",
              "95    27.418661\n",
              "65    25.575084\n",
              "43    26.897067\n",
              "93    29.397567\n",
              "49    30.674803\n",
              "22    31.796612\n",
              "67    34.114025\n",
              "39    20.407571\n",
              "81    21.139429\n",
              "82    21.595626\n",
              "73    21.050399\n",
              "56    22.965773\n",
              "1     24.695934\n",
              "23    28.882081\n",
              "42    21.442703\n",
              "84    21.701202\n",
              "36    23.488811\n",
              "38    27.094411\n",
              "4     23.426739\n",
              "14    25.341892\n",
              "79    19.367337\n",
              "13    23.556729\n",
              "91    25.286954\n",
              "7     17.274218\n",
              "12    27.294930\n",
              "98    29.515593\n",
              "8     28.718210\n",
              "92    24.181109\n",
              "Name: Fuel Economy (MPG), dtype: float64"
            ]
          },
          "metadata": {
            "tags": []
          },
          "execution_count": 48
        }
      ]
    },
    {
      "cell_type": "code",
      "metadata": {
        "id": "peS4g9HVt_co",
        "outputId": "d106a0d1-2444-42ee-8cab-2aa068be7721"
      },
      "source": [
        "plt.scatter(X_train, y_train, color = 'gray')\n",
        "plt.plot(X_train, regressor.predict(X_train), color = 'blue')\n",
        "plt.xlabel('Horse Power (HP)')\n",
        "plt.ylabel('MPG')\n",
        "plt.title('HP vs. MPG (Training Set)')"
      ],
      "execution_count": null,
      "outputs": [
        {
          "output_type": "execute_result",
          "data": {
            "text/plain": [
              "Text(0.5,1,'HP vs. MPG (Training Set)')"
            ]
          },
          "metadata": {
            "tags": []
          },
          "execution_count": 49
        },
        {
          "output_type": "display_data",
          "data": {
            "image/png": "[encoded data removed]",
            "text/plain": [
              "<Figure size 432x288 with 1 Axes>"
            ]
          },
          "metadata": {
            "tags": []
          }
        }
      ]
    },
    {
      "cell_type": "code",
      "metadata": {
        "id": "9DahtKq3t_cp",
        "outputId": "c7a252b3-17ef-4767-aaf5-51ce8844f71c"
      },
      "source": [
        "plt.scatter(X_test, y_test, color = 'gray')\n",
        "plt.plot(X_test, regressor.predict(X_test), color = 'blue')\n",
        "plt.xlabel('Horse Power (HP)')\n",
        "plt.ylabel('MPG')\n",
        "plt.title('HP vs. MPG (Testing Set)')"
      ],
      "execution_count": null,
      "outputs": [
        {
          "output_type": "execute_result",
          "data": {
            "text/plain": [
              "Text(0.5,1,'HP vs. MPG (Testing Set)')"
            ]
          },
          "metadata": {
            "tags": []
          },
          "execution_count": 50
        },
        {
          "output_type": "display_data",
          "data": {
            "image/png": "[encoded data removed]",
            "text/plain": [
              "<Figure size 432x288 with 1 Axes>"
            ]
          },
          "metadata": {
            "tags": []
          }
        }
      ]
    },
    {
      "cell_type": "code",
      "metadata": {
        "id": "nwhsXhrzt_cp"
      },
      "source": [
        "HP = 500\n",
        "# MPG?"
      ],
      "execution_count": null,
      "outputs": []
    },
    {
      "cell_type": "code",
      "metadata": {
        "id": "w5r_MkEHt_cp",
        "outputId": "775bd45d-12a2-41bc-9314-ccc70e7855e6"
      },
      "source": [
        "MPG = regressor.predict(HP)\n",
        "MPG"
      ],
      "execution_count": null,
      "outputs": [
        {
          "output_type": "execute_result",
          "data": {
            "text/plain": [
              "array([2.81546053])"
            ]
          },
          "metadata": {
            "tags": []
          },
          "execution_count": 58
        }
      ]
    }
  ]
}